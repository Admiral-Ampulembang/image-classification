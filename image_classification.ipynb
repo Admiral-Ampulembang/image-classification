{
 "cells": [
  {
   "cell_type": "markdown",
   "id": "57bc831d",
   "metadata": {},
   "source": [
    "# Image Classification"
   ]
  },
  {
   "cell_type": "markdown",
   "id": "a01736e8",
   "metadata": {},
   "source": [
    "## Data Preparation"
   ]
  },
  {
   "cell_type": "markdown",
   "id": "7180bc4c",
   "metadata": {},
   "source": [
    "### 1. Download and extract the dataset sample"
   ]
  },
  {
   "cell_type": "markdown",
   "id": "4d9b82fb",
   "metadata": {},
   "source": [
    "#### Dataset used for this project: https://www.kaggle.com/datasets/iluvchicken/cheetah-jaguar-and-tiger/versions/1 (You can use your own dataset; do not forget to change the file path of the dataset)"
   ]
  },
  {
   "cell_type": "markdown",
   "id": "2131a657",
   "metadata": {},
   "source": [
    "### 2. Create two folders called 'images' and 'train-test'"
   ]
  },
  {
   "cell_type": "code",
   "execution_count": 1,
   "id": "1cfab4fb",
   "metadata": {},
   "outputs": [
    {
     "name": "stdout",
     "output_type": "stream",
     "text": [
      "Folder images created!\n",
      "Folder train-test created!\n"
     ]
    }
   ],
   "source": [
    "import os\n",
    "\n",
    "# dataset directory and extension\n",
    "parent_dir = r\"C:\\Users\\admir\\UK\\United Kingdom\\Personal Projects\\Image Classification\\image-classification\\dataset\\\\\"\n",
    "subdirs = ['images', 'train-test']\n",
    "\n",
    "for subdir in subdirs:\n",
    "    newdir = parent_dir + subdir\n",
    "    \n",
    "    # create folders\n",
    "    try:\n",
    "        os.makedirs(newdir)\n",
    "        print('Folder ' + subdir + ' created!')\n",
    "        \n",
    "    # print message where folders already exist\n",
    "    except FileExistsError:\n",
    "        pass\n",
    "        print('Folder ' + subdir + ' already exist!')"
   ]
  },
  {
   "cell_type": "markdown",
   "id": "103c3545",
   "metadata": {},
   "source": [
    "### 3. Copy the downloaded dataset to the 'images' folder"
   ]
  },
  {
   "cell_type": "code",
   "execution_count": 2,
   "id": "011ab0ba",
   "metadata": {},
   "outputs": [],
   "source": [
    "import os\n",
    "import shutil\n",
    "\n",
    "# downloaded dataset directory\n",
    "parent_dir = r\"C:\\Users\\admir\\Downloads\\archive\\\\\"\n",
    "\n",
    "# checking through all images\n",
    "for folder in os.listdir(parent_dir):\n",
    "    # dataset source\n",
    "    folder_path = os.path.join(parent_dir, folder)\n",
    "    \n",
    "    # destination\n",
    "    destination = r\"C:\\Users\\admir\\UK\\United Kingdom\\Personal Projects\\Image Classification\\image-classification\\dataset\\images\\\\\" + folder\n",
    "    \n",
    "    # copy from source to destination\n",
    "    try:\n",
    "        shutil.copytree(folder_path, destination)\n",
    "        \n",
    "    # print message where folders already exist\n",
    "    except FileExistsError:\n",
    "        shutil.rmtree(destination)\n",
    "        shutil.copytree(folder_path, destination)"
   ]
  },
  {
   "cell_type": "markdown",
   "id": "37c85007",
   "metadata": {},
   "source": [
    "### 4. Check the dataset\n",
    "\n",
    "#### Since datasets from Kaggle are usually set up properly, there is no need to check the dataset. If you downloaded your own dataset from other websites which are not set up properly (e.g. includes other image extensions), you need to check your dataset first."
   ]
  },
  {
   "cell_type": "code",
   "execution_count": 3,
   "id": "74b8b2e2",
   "metadata": {},
   "outputs": [
    {
     "name": "stdout",
     "output_type": "stream",
     "text": [
      "Removed images: \n",
      "cheetah: 34\n",
      "jaguar: 36\n",
      "tiger: 41\n"
     ]
    }
   ],
   "source": [
    "import os\n",
    "import cv2\n",
    "import imghdr\n",
    "\n",
    "# image directory and image extension\n",
    "image_dir = r\"C:\\Users\\admir\\UK\\United Kingdom\\Personal Projects\\Image Classification\\image-classification\\dataset\\images\\\\\"\n",
    "image_ext = ['jpeg', 'jpg', 'png']\n",
    "\n",
    "## Remove images\n",
    "print(\"Removed images: \")\n",
    "\n",
    "# checking through all folders\n",
    "for folder in os.listdir(image_dir):\n",
    "    remove_count = 0\n",
    "    \n",
    "    # checking through all images\n",
    "    for image in os.listdir(os.path.join(image_dir, folder)):\n",
    "        image_path = os.path.join(image_dir, folder, image)\n",
    "        \n",
    "        # read through image extensions\n",
    "        try:\n",
    "            img = cv2.imread(image_path)\n",
    "            tip = imghdr.what(image_path)\n",
    "            \n",
    "            # remove image if not included as part of the image extension\n",
    "            if tip not in image_ext:\n",
    "                os.remove(image_path)\n",
    "                remove_count += 1\n",
    "                                \n",
    "        except Exception as e:\n",
    "            print('Issue with image {}'.format(image_path))\n",
    "      \n",
    "    # print the number of removed images for each class\n",
    "    print(folder + \": \" + str(remove_count))"
   ]
  },
  {
   "cell_type": "markdown",
   "id": "8fdcd0b4",
   "metadata": {},
   "source": [
    "### 5. Rename files"
   ]
  },
  {
   "cell_type": "code",
   "execution_count": 4,
   "id": "7883bd19",
   "metadata": {
    "scrolled": true
   },
   "outputs": [
    {
     "name": "stdout",
     "output_type": "stream",
     "text": [
      "Current total images: \n",
      "cheetah: 966\n",
      "jaguar: 964\n",
      "tiger: 959\n"
     ]
    }
   ],
   "source": [
    "import os\n",
    "import cv2\n",
    "from PIL import Image\n",
    "\n",
    "# image directory\n",
    "image_dir = r'C:\\Users\\admir\\UK\\United Kingdom\\Personal Projects\\Image Classification\\image-classification\\dataset\\images\\\\'\n",
    "\n",
    "print(\"Current total images: \")\n",
    "\n",
    "# checking through all folder\n",
    "for folder in os.listdir(image_dir):\n",
    "    image_count = 0\n",
    "    \n",
    "    # checking though all images\n",
    "    for image in os.listdir(os.path.join(image_dir, folder)):\n",
    "        # image source\n",
    "        image_path = os.path.join(image_dir, folder, image)\n",
    "        image_count += 1\n",
    "        \n",
    "        # new image name\n",
    "        filename = folder + str(image_count) + \".jpg\"      \n",
    "        \n",
    "        # rename images\n",
    "        source = image_path\n",
    "        destination = image_dir + folder + \"/\" + filename\n",
    "        os.rename(source, destination)\n",
    "        \n",
    "    # print current total images for each class\n",
    "    print(folder + \": \" + str(image_count))"
   ]
  },
  {
   "cell_type": "markdown",
   "id": "d086e998",
   "metadata": {},
   "source": [
    "### 6. Create two folders called 'train' and 'test'"
   ]
  },
  {
   "cell_type": "code",
   "execution_count": 5,
   "id": "4ff16685",
   "metadata": {},
   "outputs": [
    {
     "name": "stdout",
     "output_type": "stream",
     "text": [
      "Folder train created!\n",
      "Folder test created!\n"
     ]
    }
   ],
   "source": [
    "import os\n",
    "\n",
    "# parent directory and extension\n",
    "parent_dir = r\"C:\\Users\\admir\\UK\\United Kingdom\\Personal Projects\\Image Classification\\image-classification\\dataset\\train-test\\\\\"\n",
    "subdirs = ['train', 'test']\n",
    "\n",
    "for subdir in subdirs:\n",
    "    newdir = parent_dir + subdir\n",
    "    \n",
    "    # create train and test folders\n",
    "    try:\n",
    "        os.makedirs(newdir)\n",
    "        print('Folder ' + subdir + ' created!')\n",
    "      \n",
    "    # print message if folders already exist\n",
    "    except FileExistsError:\n",
    "        pass\n",
    "        print('Folder ' + subdir + ' already exists!')"
   ]
  },
  {
   "cell_type": "markdown",
   "id": "767a4bfe",
   "metadata": {},
   "source": [
    "### 7. Create label folders inside the 'train' and 'test' folders"
   ]
  },
  {
   "cell_type": "code",
   "execution_count": 6,
   "id": "53e1dec5",
   "metadata": {},
   "outputs": [],
   "source": [
    "import os\n",
    "import shutil\n",
    "from random import seed\n",
    "from random import random\n",
    "\n",
    "# parent directory\n",
    "parent_dir = r\"C:\\Users\\admir\\UK\\United Kingdom\\Personal Projects\\Image Classification\\image-classification\\dataset\\\\\"\n",
    "\n",
    "# label and subdirectory lists\n",
    "labels = []\n",
    "subdirs = []\n",
    "\n",
    "# append the list of labels\n",
    "for folder in os.listdir(parent_dir + 'images'):\n",
    "    labels.append(folder)\n",
    "\n",
    "# create the label folders inside the 'train' and 'test' folders\n",
    "for folder in os.listdir(parent_dir + 'train-test'):\n",
    "    subdirs.append(folder)\n",
    "    \n",
    "    for subdir in subdirs:\n",
    "        for label in labels:\n",
    "            os.makedirs(os.path.join(parent_dir + 'train-test/' + subdir + '/' + label), exist_ok = True)"
   ]
  },
  {
   "cell_type": "markdown",
   "id": "a10c17e2",
   "metadata": {},
   "source": [
    "### 8. Copy 80% of the images to the folders inside the 'train' folder and 20% of the images to the folders inside the 'test' folder randomly"
   ]
  },
  {
   "cell_type": "code",
   "execution_count": 7,
   "id": "ed38059b",
   "metadata": {},
   "outputs": [],
   "source": [
    "import os\n",
    "import shutil\n",
    "from random import seed\n",
    "from random import random\n",
    "\n",
    "# parent directory and subdirectory list\n",
    "parent_dir = r\"C:\\Users\\admir\\UK\\United Kingdom\\Personal Projects\\Image Classification\\image-classification\\dataset\\\\\"\n",
    "subdirs = ['train/', 'test/']\n",
    "\n",
    "# random and value ratio\n",
    "seed(1)\n",
    "val_ratio = 0.2\n",
    "\n",
    "for folder in os.listdir(parent_dir + 'images'):\n",
    "    for image in os.listdir(os.path.join(parent_dir + 'images/', folder)):\n",
    "        # image source\n",
    "        image_path = os.path.join(parent_dir + 'images/', folder, image)\n",
    "        \n",
    "        # destination = subdir[0] ('train' folder)\n",
    "        destination = parent_dir + 'train-test/' + subdirs[0] + '/' + folder + '/' + image\n",
    "\n",
    "        # random less than the val_ratio\n",
    "        if random() < val_ratio:\n",
    "            # destination = subdir[1] ('test' folder)\n",
    "            destination = parent_dir + 'train-test/' + subdirs[1] + '/' + folder + '/' + image\n",
    "\n",
    "        # copy images from source to destination\n",
    "        shutil.copy(image_path, destination)"
   ]
  },
  {
   "cell_type": "markdown",
   "id": "65290317",
   "metadata": {},
   "source": [
    "## Training Model"
   ]
  },
  {
   "cell_type": "code",
   "execution_count": 9,
   "id": "2b56cb72",
   "metadata": {},
   "outputs": [
    {
     "name": "stdout",
     "output_type": "stream",
     "text": [
      "Found 2319 images belonging to 3 classes.\n",
      "Found 570 images belonging to 3 classes.\n",
      "Epoch 1/10\n",
      "73/73 [==============================] - 185s 3s/step - loss: 4.4282 - accuracy: 0.9314 - val_loss: 0.0947 - val_accuracy: 0.9667\n",
      "Epoch 2/10\n",
      "73/73 [==============================] - 190s 3s/step - loss: 0.0500 - accuracy: 0.9914 - val_loss: 0.1344 - val_accuracy: 0.9789\n",
      "Epoch 3/10\n",
      "73/73 [==============================] - 193s 3s/step - loss: 0.0366 - accuracy: 0.9931 - val_loss: 0.1818 - val_accuracy: 0.9807\n",
      "Epoch 4/10\n",
      "73/73 [==============================] - 187s 3s/step - loss: 0.0157 - accuracy: 0.9966 - val_loss: 0.1168 - val_accuracy: 0.9877\n",
      "Epoch 5/10\n",
      "73/73 [==============================] - 185s 3s/step - loss: 0.0107 - accuracy: 0.9983 - val_loss: 0.0937 - val_accuracy: 0.9877\n",
      "Epoch 6/10\n",
      "73/73 [==============================] - 189s 3s/step - loss: 3.3143e-04 - accuracy: 1.0000 - val_loss: 0.1141 - val_accuracy: 0.9842\n",
      "Epoch 7/10\n",
      "73/73 [==============================] - 187s 3s/step - loss: 5.3986e-05 - accuracy: 1.0000 - val_loss: 0.1131 - val_accuracy: 0.9860\n",
      "Epoch 8/10\n",
      "73/73 [==============================] - 182s 2s/step - loss: 3.9487e-05 - accuracy: 1.0000 - val_loss: 0.1130 - val_accuracy: 0.9860\n",
      "Epoch 9/10\n",
      "73/73 [==============================] - 182s 2s/step - loss: 3.2677e-05 - accuracy: 1.0000 - val_loss: 0.1130 - val_accuracy: 0.9860\n",
      "Epoch 10/10\n",
      "73/73 [==============================] - 182s 2s/step - loss: 2.8398e-05 - accuracy: 1.0000 - val_loss: 0.1132 - val_accuracy: 0.9860\n",
      "> 98.60\n"
     ]
    },
    {
     "data": {
      "image/png": "[encoded data removed]",
      "text/plain": [
       "<Figure size 640x480 with 2 Axes>"
      ]
     },
     "metadata": {},
     "output_type": "display_data"
    }
   ],
   "source": [
    "# VGG16 Model for Multiclass Image Classification\n",
    "import os\n",
    "import sys\n",
    "from matplotlib import pyplot\n",
    "from keras.utils import to_categorical\n",
    "from keras.applications.vgg16 import VGG16\n",
    "from keras.models import Model\n",
    "from keras.layers import Dense, Flatten\n",
    "from keras.optimizers import SGD\n",
    "from keras.preprocessing.image import ImageDataGenerator\n",
    "\n",
    "# calculate folder\n",
    "def calculate_folder():\n",
    "    parent_dir = r\"C:\\Users\\admir\\UK\\United Kingdom\\Personal Projects\\Image Classification\\image-classification\\dataset\\train-test\\test\\\\\"\n",
    "    folder_count = 0\n",
    "    \n",
    "    for folder in os.listdir(parent_dir):\n",
    "        folder_count += 1\n",
    "    \n",
    "    return folder_count\n",
    "\n",
    "# define cnn model\n",
    "def define_model():\n",
    "    # load model\n",
    "    model = VGG16(include_top = False, input_shape = (224, 224, 3))\n",
    "    \n",
    "    # mark loaded layers as not trainable\n",
    "    for layer in model.layers:\n",
    "        layer.trainable = False\n",
    "        \n",
    "    # add new classifier layers\n",
    "    flat1 = Flatten()(model.layers[-1].output)\n",
    "    class1 = Dense(128, activation = 'relu', kernel_initializer = 'he_uniform')(flat1)\n",
    "    \n",
    "    # softmax are usually used for multiclass classification\n",
    "    output = Dense(calculate_folder(), activation = 'softmax')(class1)\n",
    "    \n",
    "    # define new model\n",
    "    model = Model(inputs = model.inputs, outputs = output)\n",
    "    \n",
    "    # compile model\n",
    "    opt = SGD(learning_rate = 0.001, momentum = 0.9)\n",
    "    model.compile(optimizer = opt, loss = 'categorical_crossentropy', metrics = ['accuracy'])\n",
    "    \n",
    "    return model\n",
    "\n",
    "# plot diagnostic learning curves\n",
    "def summarise_diagnostics(history):\n",
    "    # plot loss\n",
    "    pyplot.subplot(211)\n",
    "    pyplot.title('Cross Entropy Loss')\n",
    "    pyplot.plot(history.history['loss'], color = 'red', label = 'train')\n",
    "    pyplot.plot(history.history['val_loss'], color = 'green', label = 'test')\n",
    "    \n",
    "    # plot accuracy\n",
    "    pyplot.subplot(212)\n",
    "    pyplot.title('Classification Accuracy')\n",
    "    pyplot.plot(history.history['accuracy'], color = 'blue', label = 'train')\n",
    "    pyplot.plot(history.history['val_accuracy'], color = 'orange', label = 'test')\n",
    "    \n",
    "# run the test harness for evaluating a model\n",
    "def run_test():\n",
    "    # define model\n",
    "    model = define_model()\n",
    "    \n",
    "    # create data generator\n",
    "    datagen = ImageDataGenerator(featurewise_center = True)\n",
    "    \n",
    "    # specify imagenet mean values for centering\n",
    "    datagen.mean = [123.68, 116.799, 103.939]\n",
    "    \n",
    "    # prepare iterator\n",
    "    train = datagen.flow_from_directory(r\"C:\\Users\\admir\\UK\\United Kingdom\\Personal Projects\\Image Classification\\image-classification\\dataset\\train-test\\train\\\\\",\n",
    "                                       class_mode = 'categorical', batch_size = 32, target_size = (224, 224))\n",
    "    test = datagen.flow_from_directory(r\"C:\\Users\\admir\\UK\\United Kingdom\\Personal Projects\\Image Classification\\image-classification\\dataset\\train-test\\test\\\\\",\n",
    "                                      class_mode = 'categorical', batch_size = 32, target_size = (224, 224))\n",
    "    \n",
    "    # fit model\n",
    "    history = model.fit(train, steps_per_epoch = len(train), validation_data = test,\n",
    "                       validation_steps = len(test), epochs = 10, verbose = 1)\n",
    "    \n",
    "    # evaluate model and print accuracy\n",
    "    _, acc = model.evaluate(test, steps = len(test), verbose = 0)\n",
    "    print('> %.2f' % (acc * 100.0))\n",
    "    \n",
    "    # learning curves\n",
    "    summarise_diagnostics(history)\n",
    "    \n",
    "    # save model\n",
    "    model.save(r\"C:\\Users\\admir\\UK\\United Kingdom\\Personal Projects\\Image Classification\\image-classification\\training_model.h5\")\n",
    "    \n",
    "# run the test harness\n",
    "run_test()   "
   ]
  },
  {
   "cell_type": "code",
   "execution_count": null,
   "id": "74ecc4e4",
   "metadata": {},
   "outputs": [],
   "source": []
  }
 ],
 "metadata": {
  "kernelspec": {
   "display_name": "Python 3 (ipykernel)",
   "language": "python",
   "name": "python3"
  },
  "language_info": {
   "codemirror_mode": {
    "name": "ipython",
    "version": 3
   },
   "file_extension": ".py",
   "mimetype": "text/x-python",
   "name": "python",
   "nbconvert_exporter": "python",
   "pygments_lexer": "ipython3",
   "version": "3.9.13"
  }
 },
 "nbformat": 4,
 "nbformat_minor": 5
}
